import pandas as pd
import matplotlib.pyplot as plt
import numpy as np


df_train = pd.read_csv("train.csv")
df_stores = pd.read_csv("data/store.csv")


df_stores


df_train


get_ipython().getoutput("pip install pyodbc")


import sqlite3
import csv


df_train.columns


con = sqlite3.connect("data.db")
cur = con.cursor()
cur.execute('''CREATE TABLE data (Store int,DayOfWeek int,Date DATE,Sales int,Customers int, Open int, Promo int,StateHoliday int, SchoolHoliday int)''')

sales_file = open("train.csv")
rows = csv.reader(sales_file)
cur.executemany("INSERT INTO data VALUES (?, ?, ?, ?, ?, ?, ?, ?, ?)", rows)
cur.execute("SELECT * FROM data")
print(cur.fetchall())



rows


def create_db(db_name):
    from pathlib import Path
    Path(db_name).touch()
    



import sqlite3



def establish_db_connection(db_name):
    connection = sqlite3.connect(db_name)
    return connection

def create_and_populate_table(csv_file, connection, db_name):
    c = connection.cursor()
    c.execute('''CREATE TABLE data (Store int,DayOfWeek int,Date DATE,Sales int,Customers int, Open int, Promo int,StateHoliday int, SchoolHoliday int)''')
    csv_file.to_sql('data', connection, if_exists='append', index = False)
    c.close()
    


db_name = 'data.db'

create_db(db_name)
connection = establish_db_connection(db_name)
create_and_populate_table(df_train, connection, db_name)


c = connection.cursor()
c.execute('''SELECT * FROM data''').fetchall()


pd.read_sql('''SELECT * FROM data''',connection)



