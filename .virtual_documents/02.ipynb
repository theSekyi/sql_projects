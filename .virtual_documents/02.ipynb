import warnings
warnings.filterwarnings('ignore')


import pandas as pd
import matplotlib.pyplot as plt
import numpy as np


df_sales = pd.read_csv("train.csv")
df_stores = pd.read_csv("data/store.csv")


import sqlite3

def create_db(db_name):
    from pathlib import Path
    Path(db_name).touch()
    
def establish_db_connection(db_name):
    connection = sqlite3.connect(db_name)
    return connection

def create_and_populate_table(csv_file, connection, db_name):
    c = connection.cursor()
    c.execute('''DROP TABLE IF EXISTS data''')
    c.execute('''CREATE TABLE data (Store int,DayOfWeek int,Date DATE,Sales int, Customers int, Open int, Promo int,StateHoliday int, SchoolHoliday int)''')
    csv_file.to_sql('data', connection, if_exists='append', index = False)
    c.close()
    


db_name = 'data.db'

create_db(db_name)
connection = establish_db_connection(db_name)
create_and_populate_table(df_sales, connection, db_name)


c = connection.cursor()
c.execute('''SELECT * FROM data''').fetchall()


pd.read_sql('''SELECT * FROM data''',connection)





df_sales.columns


connection.execute('''INSERT INTO data(Store, DayOfWeek, Date, Sales, Customers, Open, Promo, StateHoliday, SchoolHoliday) VALUES(1116,3,'2012-01-01', 5,0,0,0,0,1);''')
connection.commit()


pd.read_sql('''SELECT * FROM data''',connection)


pd.read_sql('''SELECT Store, DayOfWeek, Date, Sales
                      FROM data WHERE Sales > 10000''',connection)


pd.read_sql('''SELECT *
               FROM data 
               ORDER BY Sales DESC
               LIMIT 5''',connection)





pd.read_sql('''SELECT * FROM data''',connection)


connection.execute('''UPDATE data
SET Sales = 50000
WHERE Store = 1116''');


pd.read_sql('''SELECT * FROM data''',connection)





connection.execute('''DELETE FROM data
WHERE Store = 1116''');


pd.read_sql('''SELECT * FROM data''',connection)























pd.read_sql('''SELECT COUNT(*)
                      FROM data WHERE Sales > 38037''',connection)


pd.read_sql('''SELECT SUM(Sales)
                      FROM data WHERE Sales > 38037''',connection)


38367 + 38484 + 38722 + 41551


pd.read_sql('''SELECT MAX(Sales)
                      FROM data''',connection)





df_left = pd.DataFrame({'key': ['A', 'B', 'C', 'D'], 'value': np.random.randn(4)})
df_right = pd.DataFrame({'key': ['B', 'D', 'E', 'F'], 'value': np.random.randn(4)})


df_left


df_right


def create_and_populate_join_table(csv_file_1,csv_file_2, connection, db_name):
    c = connection.cursor()
    c.execute('''DROP TABLE IF EXISTS left_table;''')
    c.execute('''DROP TABLE IF EXISTS right_table;''')

    c.execute('''CREATE TABLE left_table (key,value)''')
    c.execute('''CREATE TABLE right_table (key,value)''')
    csv_file_1.to_sql('left_table', connection, if_exists='append', index = False)
    csv_file_2.to_sql('right_table', connection, if_exists='append', index = False)
    c.close()


db_name = 'joins_db'
connection = establish_db_connection(db_name)

create_and_populate_join_table(df_left,df_right, connection, db_name=db_name)


pd.read_sql('''SELECT * FROM left_table ''',connection)


pd.read_sql('''SELECT * FROM right_table ''',connection)


pd.read_sql('''SELECT * FROM left_table 
                INNER JOIN right_table
                ON left_table.key = right_table.key''',connection)





pd.read_sql('''SELECT * FROM left_table 
                LEFT OUTER JOIN right_table
                ON left_table.key = right_table.key''',connection)



























